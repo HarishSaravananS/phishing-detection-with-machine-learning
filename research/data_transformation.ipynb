{
 "cells": [
  {
   "cell_type": "code",
   "execution_count": 1,
   "metadata": {},
   "outputs": [],
   "source": [
    "import os \n",
    "os.chdir(\"../\")\n"
   ]
  },
  {
   "cell_type": "code",
   "execution_count": 2,
   "metadata": {},
   "outputs": [
    {
     "data": {
      "text/plain": [
       "'c:\\\\Users\\\\HP\\\\OneDrive\\\\Desktop\\\\pishing'"
      ]
     },
     "execution_count": 2,
     "metadata": {},
     "output_type": "execute_result"
    }
   ],
   "source": [
    "%pwd"
   ]
  },
  {
   "cell_type": "code",
   "execution_count": 3,
   "metadata": {},
   "outputs": [],
   "source": [
    "from dataclasses import dataclass\n",
    "from pathlib import Path\n",
    "\n",
    "\n",
    "@dataclass(frozen=True)\n",
    "class DataTransformationConfig:\n",
    "    root_dir: Path\n",
    "    train_path: Path\n",
    "    test_path:Path\n",
    "    train_y_path:Path\n",
    "    test_y_path:Path\n",
    "    \n",
    "\n"
   ]
  },
  {
   "cell_type": "code",
   "execution_count": 4,
   "metadata": {},
   "outputs": [],
   "source": [
    "from phishingdetection.constants import *\n",
    "from phishingdetection.utils.common import read_yaml, create_directories\n",
    "from sklearn.preprocessing import MinMaxScaler \n",
    "from phishingdetection.logging import logger"
   ]
  },
  {
   "cell_type": "code",
   "execution_count": 5,
   "metadata": {},
   "outputs": [],
   "source": [
    "class ConfigurationManager:\n",
    "    def __init__(\n",
    "        self,\n",
    "        config_filepath = CONFIG_FILE_PATH,\n",
    "        params_filepath = PARAMS_FILE_PATH):\n",
    "\n",
    "        self.config = read_yaml(config_filepath)\n",
    "        self.params = read_yaml(params_filepath)\n",
    "\n",
    "        create_directories([self.config.artifacts_root])\n",
    "\n",
    "\n",
    "    \n",
    "\n",
    "    def get_data_transformation_config(self) -> DataTransformationConfig:\n",
    "        config = self.config.data_transformation\n",
    "\n",
    "        create_directories([config.root_dir])\n",
    "\n",
    "        # Corrected the syntax for  instantiation\n",
    "        data_transformation_config = DataTransformationConfig(\n",
    "            root_dir=config.root_dir,\n",
    "            train_path=config.train_path,\n",
    "            test_path=config.test_path,\n",
    "            train_y_path=config.train_y_path,\n",
    "            test_y_path=config.test_y_path  # Swapped train_path and test_path\n",
    "              # Swapped train_path and test_path\n",
    "        )\n",
    "\n",
    "        return data_transformation_config\n"
   ]
  },
  {
   "cell_type": "code",
   "execution_count": 6,
   "metadata": {},
   "outputs": [],
   "source": [
    "import pandas as pd\n",
    "from sklearn.preprocessing import MinMaxScaler\n",
    "from sklearn.model_selection import train_test_split\n",
    "import logging\n",
    "import pickle\n",
    "\n",
    "class DataTransformation:\n",
    "    def __init__(self, config:DataTransformationConfig):\n",
    "        self.config = config\n",
    "\n",
    "    def transform(self):\n",
    "        data = pd.read_csv(r\"artifacts\\data_ingestion\\train.csv\")\n",
    "        train_df, test_df = train_test_split(data, test_size=0.2)\n",
    "\n",
    "        logging.info(\"Read train and test data completed\")\n",
    "\n",
    "        target_column_name = \"phishing\"\n",
    "\n",
    "        input_feature_train_df = train_df.drop(columns=[target_column_name], axis=1)\n",
    "        target_feature_train_df = train_df[target_column_name]\n",
    "\n",
    "        input_feature_test_df = test_df.drop(columns=[target_column_name], axis=1)\n",
    "        target_feature_test_df = test_df[target_column_name]\n",
    "\n",
    "        scaler = MinMaxScaler()  \n",
    "        scaler.fit(input_feature_train_df.values)  \n",
    "        scaled_input_feature_train_df = scaler.transform(input_feature_train_df.values)\n",
    "        scaled_input_feature_test_df = scaler.transform(input_feature_test_df.values)\n",
    "\n",
    "        logging.info(\"Applying preprocessing object on training dataframe and testing dataframe.\")\n",
    "\n",
    "        # Save the scaler object using pickle\n",
    "        with open('scalers.pkl', 'wb') as f:\n",
    "            pickle.dump(scaler, f)\n",
    "\n",
    "        # Further processing if required\n",
    "        \n",
    "        # Save transformed dataframes if needed\n",
    "        scaled_train_df = pd.DataFrame(scaled_input_feature_train_df, columns=input_feature_train_df.columns)\n",
    "        scaled_test_df = pd.DataFrame(scaled_input_feature_test_df, columns=input_feature_test_df.columns)\n",
    "        logging.info(\"Transformation completed and saved scaler object.\")\n",
    "        scaled_train_df.to_csv(self.config.train_path, index=False)\n",
    "        scaled_test_df.to_csv(self.config.test_path, index=False)\n",
    "        target_feature_train_df.to_csv(self.config.train_y_path, index=False)\n",
    "        target_feature_test_df.to_csv(self.config.test_y_path, index=False)\n",
    "\n",
    "        logging.info(\"Transformation completed and saved scaler object.\")"
   ]
  },
  {
   "cell_type": "code",
   "execution_count": 7,
   "metadata": {},
   "outputs": [
    {
     "name": "stdout",
     "output_type": "stream",
     "text": [
      "[2024-04-21 17:07:41,729: INFO: common: yaml file: config\\config.yaml loaded successfully]\n",
      "[2024-04-21 17:07:41,733: INFO: common: yaml file: params.yaml loaded successfully]\n",
      "[2024-04-21 17:07:41,735: INFO: common: created directory at: artifacts]\n",
      "[2024-04-21 17:07:41,737: INFO: common: created directory at: artifacts/data_transformation]\n",
      "[2024-04-21 17:07:41,908: INFO: 1644176505: Read train and test data completed]\n",
      "[2024-04-21 17:07:41,952: INFO: 1644176505: Applying preprocessing object on training dataframe and testing dataframe.]\n",
      "[2024-04-21 17:07:41,956: INFO: 1644176505: Transformation completed and saved scaler object.]\n",
      "[2024-04-21 17:07:43,528: INFO: 1644176505: Transformation completed and saved scaler object.]\n"
     ]
    }
   ],
   "source": [
    "try:\n",
    "    config = ConfigurationManager()\n",
    "    data_transformation_config = config.get_data_transformation_config()\n",
    "    data_transformation =DataTransformation (config=data_transformation_config)\n",
    "    data_transformation.transform()\n",
    "    \n",
    "except Exception as e:\n",
    "    raise e"
   ]
  }
 ],
 "metadata": {
  "kernelspec": {
   "display_name": "pishing",
   "language": "python",
   "name": "python3"
  },
  "language_info": {
   "codemirror_mode": {
    "name": "ipython",
    "version": 3
   },
   "file_extension": ".py",
   "mimetype": "text/x-python",
   "name": "python",
   "nbconvert_exporter": "python",
   "pygments_lexer": "ipython3",
   "version": "3.8.19"
  }
 },
 "nbformat": 4,
 "nbformat_minor": 2
}
